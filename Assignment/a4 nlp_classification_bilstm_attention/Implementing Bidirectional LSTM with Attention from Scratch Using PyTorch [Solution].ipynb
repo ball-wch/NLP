{
 "cells": [
  {
   "cell_type": "markdown",
   "metadata": {},
   "source": [
    "# Implementing Bidirectional LSTM with Attention from Scratch Using PyTorch"
   ]
  },
  {
   "cell_type": "raw",
   "metadata": {},
   "source": [
    "Question 1 - LSTM from scratch\n",
    "Question 2 - More optimized LSTM from scratch\n",
    "https://towardsdatascience.com/building-a-lstm-by-hand-on-pytorch-59c02a4ec091 \n",
    "\n",
    "Question 3 - Peephole, and other variants of LSTM from scratch\n",
    "\n",
    "Question 4 - + Bidirectionality\n",
    "Create another LSTM, and reverse text.\n",
    "\n",
    "Questoin 5 - + Attention (General, Self)\n",
    "Copy from our github repo and then delete the three files\n",
    "\n",
    "BLEU"
   ]
  },
  {
   "cell_type": "code",
   "execution_count": null,
   "metadata": {},
   "outputs": [],
   "source": []
  }
 ],
 "metadata": {
  "anaconda-cloud": {},
  "kernelspec": {
   "display_name": "Python 3 (ipykernel)",
   "language": "python",
   "name": "python3"
  },
  "language_info": {
   "codemirror_mode": {
    "name": "ipython",
    "version": 3
   },
   "file_extension": ".py",
   "mimetype": "text/x-python",
   "name": "python",
   "nbconvert_exporter": "python",
   "pygments_lexer": "ipython3",
   "version": "3.8.12"
  }
 },
 "nbformat": 4,
 "nbformat_minor": 2
}
